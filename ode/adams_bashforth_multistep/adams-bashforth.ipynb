{
 "cells": [
  {
   "cell_type": "markdown",
   "id": "9c58cc3e-2c77-4e8d-a514-945655f33a30",
   "metadata": {},
   "source": [
    "# Adams-Bashforth multistep methods"
   ]
  },
  {
   "cell_type": "markdown",
   "id": "1f27a792-7b64-4897-bf26-00d10817d5c8",
   "metadata": {},
   "source": [
    "## Intro: Exponential equation in 1D"
   ]
  },
  {
   "cell_type": "markdown",
   "id": "f33d8163-1ca5-4d42-bdef-4d7feb00fcf3",
   "metadata": {},
   "source": [
    "$$\n",
    "y' = \\lambda y\n",
    "$$\n",
    "\n",
    "$$\n",
    "y' = f(t,y)\n",
    "$$\n",
    "\n",
    "$$\n",
    "f(t, y) = \\lambda y\n",
    "$$\n",
    "\n",
    "$$y(0) = 1$$\n",
    "\n",
    "Find $y(t)$ numerically."
   ]
  },
  {
   "cell_type": "markdown",
   "id": "40a71710-b3fe-4b59-aa42-11892467ca9c",
   "metadata": {},
   "source": [
    "## References:\n",
    "\n",
    "https://www.youtube.com/watch?v=8R8_hiMIJz0"
   ]
  },
  {
   "cell_type": "markdown",
   "id": "3af97103-9ea3-4d51-bf87-5348f2c0d05e",
   "metadata": {},
   "source": [
    "## Adams-Bashforth-Moulton methods for numerical solution of ODEs"
   ]
  },
  {
   "cell_type": "code",
   "execution_count": null,
   "id": "6df9e588-c765-41bd-a96d-3f04e39470c4",
   "metadata": {},
   "outputs": [],
   "source": [
    "!pwd"
   ]
  },
  {
   "cell_type": "markdown",
   "id": "8971caf1-63b9-4b31-9278-02e3fc902c72",
   "metadata": {},
   "source": [
    "## Numerical solution"
   ]
  },
  {
   "cell_type": "markdown",
   "id": "7f184838-6c3f-4103-b400-7bc2a6c63a42",
   "metadata": {},
   "source": [
    "Timestep: $h$. \n",
    "\n",
    "Time at step $k$ is $t = hk$.\n",
    "\n",
    "$y_k$: Our estimate of $y(t_k)$\n"
   ]
  },
  {
   "cell_type": "markdown",
   "id": "d9318a6f-9983-436b-ad75-072f0b8768e4",
   "metadata": {},
   "source": [
    "## Code"
   ]
  },
  {
   "cell_type": "code",
   "execution_count": null,
   "id": "c6d2eeea-5a1a-480a-b05e-cfc4f442449e",
   "metadata": {
    "editable": true,
    "slideshow": {
     "slide_type": ""
    },
    "tags": []
   },
   "outputs": [],
   "source": [
    "import numpy as np\n",
    "import matplotlib.pyplot as plt\n",
    "import scipy.integrate\n",
    "from dataclasses import dataclass\n",
    "import os\n",
    "\n",
    "plt.style.use(\"bmh\")\n",
    "#plt.style.use(\"dark_background\")\n",
    "\n",
    "import matplotlib as mpl\n",
    "mpl.rcParams['figure.dpi'] = 100\n",
    "%config InlineBackend.figure_format = 'retina'\n",
    "%config InteractiveShellApp.matplotlib = \"inline\"\n",
    "\n"
   ]
  },
  {
   "cell_type": "code",
   "execution_count": null,
   "id": "947155ab-0a3a-44db-98f6-e654f3a2ba24",
   "metadata": {},
   "outputs": [],
   "source": [
    "%load_ext autoreload\n",
    "%reload_ext autoreload\n",
    "%autoreload 2"
   ]
  },
  {
   "cell_type": "code",
   "execution_count": null,
   "id": "77fe7941-b12a-45e6-9dc9-2a12518546b9",
   "metadata": {},
   "outputs": [],
   "source": [
    "#os.chdir(\"../..\")"
   ]
  },
  {
   "cell_type": "code",
   "execution_count": null,
   "id": "91e0c27a-90bd-4918-b0de-de5c33484235",
   "metadata": {},
   "outputs": [],
   "source": [
    "!pwd"
   ]
  },
  {
   "cell_type": "code",
   "execution_count": null,
   "id": "8c4d2ae5-52fa-42a4-9b74-ccaa19214636",
   "metadata": {
    "editable": true,
    "slideshow": {
     "slide_type": ""
    },
    "tags": []
   },
   "outputs": [],
   "source": [
    "import ode.adams_bashforth_multistep.solver_1d as solver_1d\n",
    "\n",
    "y0 = 1.0\n",
    "dt = 0.1\n",
    "T = 6\n",
    "\n",
    "y_forward_euler =  solver_1d.solve_forward_euler(y0, dt, T)\n",
    "y_exact = solver_1d.solve_exact(y0, dt, T)\n",
    "y_adams_bashforth_2_explicit = solver_1d.adams_bashforth_2_explicit(y0, dt, T)\n",
    "y_adams_bashforth_2_implicit = solver_1d.adams_bashforth_2_implicit(y0, dt, T)\n",
    "\n",
    "\n",
    "\n",
    "plt.plot(y_forward_euler - y_exact)\n",
    "plt.plot(y_adams_bashforth_2_explicit - y_exact)\n",
    "plt.plot(y_adams_bashforth_2_implicit - y_exact)\n",
    "\n",
    "plt.legend([\n",
    "    \"Forward Euler\", \n",
    "    \"Adams-Bashforth 2 (explicit)\", \n",
    "    \"Adams-Bashforth 2 (implicit)\"\n",
    "])\n",
    "plt.show()"
   ]
  },
  {
   "cell_type": "markdown",
   "id": "8d40b1f7-0e2d-44ac-957a-40785e80e534",
   "metadata": {},
   "source": [
    "## Analysis\n",
    "As expected, Adams-Bashforth implicit method (aka Adams-Bashforth-Moulton) was the most accurate. It is much slower however, as it requires solving a nonlinear equation for every step."
   ]
  }
 ],
 "metadata": {
  "kernelspec": {
   "display_name": "Python 3 (ipykernel)",
   "language": "python",
   "name": "python3"
  },
  "language_info": {
   "codemirror_mode": {
    "name": "ipython",
    "version": 3
   },
   "file_extension": ".py",
   "mimetype": "text/x-python",
   "name": "python",
   "nbconvert_exporter": "python",
   "pygments_lexer": "ipython3",
   "version": "3.10.12"
  }
 },
 "nbformat": 4,
 "nbformat_minor": 5
}
