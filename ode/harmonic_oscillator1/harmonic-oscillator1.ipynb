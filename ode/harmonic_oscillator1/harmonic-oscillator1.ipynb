{
 "cells": [
  {
   "cell_type": "markdown",
   "id": "2b99ce09-ed44-4689-90bb-607c6e674e2c",
   "metadata": {},
   "source": [
    "# Harmonic oscillator"
   ]
  },
  {
   "cell_type": "markdown",
   "id": "fc9a64f9-5e09-46b4-9d24-f78eca311c8f",
   "metadata": {},
   "source": [
    "Numerical solution of simple harmonic oscillator, and double spring oscillator."
   ]
  },
  {
   "cell_type": "code",
   "execution_count": null,
   "id": "648f6274-8fc0-4c51-95e1-2743a9d3affc",
   "metadata": {
    "editable": true,
    "slideshow": {
     "slide_type": ""
    },
    "tags": []
   },
   "outputs": [],
   "source": [
    "import numpy as np\n",
    "import matplotlib.pyplot as plt\n",
    "import scipy.integrate\n",
    "from dataclasses import dataclass\n",
    "import os\n",
    "\n",
    "plt.style.use(\"bmh\")\n",
    "#plt.style.use(\"dark_background\")\n",
    "\n",
    "import matplotlib as mpl\n",
    "mpl.rcParams['figure.dpi'] = 100\n",
    "%config InlineBackend.figure_format = 'retina'\n",
    "%config InteractiveShellApp.matplotlib = \"inline\"\n"
   ]
  },
  {
   "cell_type": "code",
   "execution_count": null,
   "id": "e54710ae-d998-407a-8b79-54055fb24087",
   "metadata": {
    "editable": true,
    "slideshow": {
     "slide_type": ""
    },
    "tags": []
   },
   "outputs": [],
   "source": [
    "print(\"Making sure current working directory is in this directory\")\n",
    "try:\n",
    "    os.chdir(\"../..\")\n",
    "    pass\n",
    "except Exception as e:\n",
    "    print(\"Current directory:\", os.getcwd())\n",
    "    print(e)\n",
    "    print(\"New directory\", os.getcwd())"
   ]
  },
  {
   "cell_type": "code",
   "execution_count": null,
   "id": "e19493e9-9471-451d-b036-9eb9db685b8e",
   "metadata": {
    "editable": true,
    "slideshow": {
     "slide_type": ""
    },
    "tags": []
   },
   "outputs": [],
   "source": [
    "!pwd\n",
    "%load_ext autoreload\n",
    "%autoreload 2\n",
    "\n",
    "# from ode.harmonic_oscillator1.solvers import \\\n",
    "\n",
    "from solvers import \\\n",
    "    SolverResult, \\\n",
    "    BackwardEulerSolver, \\\n",
    "    ForwardEulerSolver, \\\n",
    "    SemiImplicitEulerSolver1, \\\n",
    "    SemiImplicitEulerSolver2, \\\n",
    "    SemiImplicitEulerSolverAvg, \\\n",
    "    VodeSolver, \\\n",
    "    VelocityVerletSolver\n",
    "\n",
    "from equations import \\\n",
    "    DoubleSpring1, \\\n",
    "    HarmonicOscillator1"
   ]
  },
  {
   "cell_type": "markdown",
   "id": "3ef43703-245b-41a0-a280-605481678a65",
   "metadata": {},
   "source": [
    "# Simple 1D spring without dampening\n",
    "\n",
    "```\n",
    "/|\n",
    "/|--vvvv----- m\n",
    "/|\n",
    " ----------> x axis\n",
    "```\n",
    "\n",
    "- k = spring_constant\n",
    "- L = resting_length\n",
    "- F = ma\n",
    "\n",
    "$$ F = -k(x - L) = ma $$\n",
    "\n",
    "$$=>   m dv/dt = -k(x - L)$$\n",
    "\n",
    "### System of equations:\n",
    "\n",
    "$$\n",
    "\\begin{align}\n",
    "dx/dt &= v                 =   0        +    1 * v \\\\\n",
    "dv/dt &= -k/m (x - L)      = -k/m x     +    0 * v    + kL/m\n",
    "\\end{align}\n",
    "$$\n",
    "\n",
    "Substitute $x = x- L$ to remove the constant term:\n",
    "\n",
    "$$\n",
    "\\begin{align}\n",
    "dx/dt &= v \\\\\n",
    "dv/dt &= -k/m x\n",
    "\\end{align}\n",
    "$$\n",
    "\n",
    "Matrix form: Let the vector $\\vec x$ contain the entire state of the system. \n",
    "\n",
    "$$\\vec x = \\begin{bmatrix}x\\\\ v\\end{bmatrix}$$\n",
    "\n",
    "The equation above becomes the following:\n",
    "\n",
    "$$\\frac{d\\vec x}{dt} = \\begin{bmatrix}0 & 1\\\\ -k/m & 0\\end{bmatrix} \\, \\vec x = f(t, x)$$\n",
    "\n",
    "Some methods additionally require a Jacobian matrix, so we compute that as well:\n",
    "\n",
    "$$\n",
    "J = J(t, x) = \\frac{df}{dx}= \\begin{bmatrix}0 & 1\\\\ -k/m & 0\\end{bmatrix}\n",
    "$$\n",
    "\n",
    "Furthermore, symplectic integrators require splitting the state vector $\\mathbf x$ into generalized position and momentum coordinates:\n",
    "\n",
    "$$\\mathbf x = \\begin{bmatrix}\\mathbf q\\\\ \\mathbf p\\end{bmatrix},$$\n",
    "\n",
    "and splitting $\\mathbf f$ into $f_q(t, q)$\n",
    "\n",
    "$$\\mathbf f(\\mathbf t, \\mathbf q, \\mathbf p) = \\begin{bmatrix}\\mathbf f_q(t, p)\\\\ \\mathbf f_p(t, q)\\end{bmatrix},$$"
   ]
  },
  {
   "cell_type": "markdown",
   "id": "29f1c5a3-f0f0-4c57-a6f6-ecd82bc50c4b",
   "metadata": {},
   "source": [
    "## Solver comparison functions"
   ]
  },
  {
   "cell_type": "code",
   "execution_count": null,
   "id": "d734c3a0-bde1-4304-8895-0d569111cf12",
   "metadata": {
    "editable": true,
    "slideshow": {
     "slide_type": ""
    },
    "tags": []
   },
   "outputs": [],
   "source": [
    "def plot_solver_results(solver, dts, r0, t_start=0.0, t_end=0.05):\n",
    "    compute_times = []\n",
    "    #plt.figure(figsize=(0.4,0.2))\n",
    "    for dt in dts:\n",
    "        tt = np.arange(t_start, t_end, dt)\n",
    "        result = solver.solve(tt, r0)\n",
    "        compute_times.append(result.compute_time)\n",
    "        positions = result.xs[0,:]\n",
    "        plt.plot(tt*1000, positions*100)\n",
    "        plt.title(f\"Simple harmonic oscillator: {solver.name}\")\n",
    "\n",
    "    legends = [f\"dt={dt}, compute={compute:.2f}\" for (dt, compute) in zip(dts, compute_times)]\n",
    "    plt.legend(legends)\n",
    "    plt.xlabel(\"milliseconds\")\n",
    "    plt.ylabel(\"cm displacement\")\n",
    "    plt.show()\n",
    "\n",
    "def plot_solver_comparison(equation_name, solvers, t_start=0.0, t_end=0.074):\n",
    "    plt.figure(figsize=(16, 6))\n",
    "    compute_times = []\n",
    "    for (solver, dt, r0) in solvers:\n",
    "        tt = np.arange(t_start, t_end, dt)\n",
    "        result = solver.solve(tt, r0)\n",
    "        compute_times.append(result.compute_time)\n",
    "        positions = result.xs[0,:]\n",
    "        times = result.ts\n",
    "        plt.plot(times*1000, positions*100)\n",
    "\n",
    "    plt.title(f\"{equation_name}\")\n",
    "    legends = [f\"{solver.name}, dt={dt:.2e}, compute={compute:.2f}\" for ((solver, dt), compute) in zip(solvers, compute_times)]\n",
    "    plt.legend(legends)\n",
    "    plt.xlabel(\"milliseconds\")\n",
    "    plt.ylabel(\"cm displacement\")\n",
    "    plt.show()\n",
    "\n"
   ]
  },
  {
   "cell_type": "markdown",
   "id": "6daadfbe-c128-4743-a428-7101e2f7015f",
   "metadata": {},
   "source": [
    "## The unreasonable accuracy of VODE\n",
    "\n",
    "VODE is just extremely good even for large time steps."
   ]
  },
  {
   "cell_type": "code",
   "execution_count": null,
   "id": "01f8775c",
   "metadata": {
    "editable": true,
    "slideshow": {
     "slide_type": ""
    },
    "tags": []
   },
   "outputs": [],
   "source": [
    "\n",
    "\n",
    "\n",
    "equation = HarmonicOscillator1()\n",
    "f, J, fq, fp = equation.f, equation.J, equation.fq, equation.fp\n",
    "r0 = np.array([1.0, 0.0])\n",
    "q0 = r0[0]\n",
    "p0 = r0[1]\n",
    "\n",
    "dts = [0.0005, 0.0025]\n",
    "plot_solver_results(ForwardEulerSolver(f), dts, r0)\n",
    "plot_solver_results(BackwardEulerSolver(f, J), dts, r0)\n",
    "plot_solver_results(SemiImplicitEulerSolver1(fq, fp), dts, r0)\n",
    "plot_solver_results(VodeSolver(f, J), dts, r0)"
   ]
  },
  {
   "cell_type": "markdown",
   "id": "c5a656e9-1f0e-4856-ade1-65737e021576",
   "metadata": {},
   "source": [
    "# Double springs"
   ]
  },
  {
   "cell_type": "markdown",
   "id": "21aacd89-6063-43de-8056-aa7c0641fc20",
   "metadata": {},
   "source": [
    "```\n",
    "\n",
    "/|     k1      m1       k2       m2\n",
    "/|---vvvvv----###----vvvvvv-----###\n",
    "/|\n",
    "```"
   ]
  },
  {
   "cell_type": "code",
   "execution_count": null,
   "id": "3ed02f84-9b25-4b8b-a3e9-7d2951dea28d",
   "metadata": {},
   "outputs": [],
   "source": [
    "def plot_double_spring_results(solver, dt, r0=None, q0=None, p0=None, t_start=0.0, t_end=0.025):\n",
    "    t_start = 0.0\n",
    "    compute_times = []\n",
    "    tt = np.arange(t_start, t_end, dt)\n",
    "    if r0 is not None:\n",
    "        result = solver.solve(tt, r0)\n",
    "    else:\n",
    "        result = solver.solve(tt, q0, p0)\n",
    "    positions_mass0 = result.xs[0,:]\n",
    "    positions_mass1 = result.xs[1,:]\n",
    "    #plt.plot(tt*1000, (positions_mass0)*100)\n",
    "    plt.plot(tt*1000, (positions_mass0)*100)\n",
    "    plt.plot(tt*1000, (positions_mass1)*100)\n",
    "    plt.title(f\"Double spring: {solver.name}\")\n",
    "\n",
    "    legends = [\"Mass 1\", \"Mass 2\"]\n",
    "    plt.legend(legends)\n",
    "    plt.xlabel(\"milliseconds\")\n",
    "    plt.ylabel(\"cm displacement\")\n",
    "    plt.show()\n",
    "\n",
    "equation = DoubleSpring1(k0=5000.0, m0=0.2, k1=4000.0, m1=0.1, L0=0.1, L1=0.2)\n",
    "\n",
    "f, J, fq, fp = equation.f, equation.J, equation.fq, equation.fp\n",
    "dt = 0.0001\n",
    "\n",
    "r0 = np.array([0.06, 0.21, 0.0, 0.0])\n",
    "q0 = r0[:2]\n",
    "p0 = r0[2:]\n",
    "plot_double_spring_results(VodeSolver(f, J), dt, r0=r0)\n",
    "plot_double_spring_results(VelocityVerletSolver(fq, fp), dt, q0=q0, p0=p0)\n",
    "\n",
    "plot_double_spring_results(ForwardEulerSolver(f), dt, r0=r0)\n",
    "plot_double_spring_results(SemiImplicitEulerSolver2(fq, fp), dt, q0=q0, p0=p0)\n",
    "#plot_double_spring_results(BackwardEulerSolver(f, J), dts, r0)\n",
    "#plot_double_spring_results(VodeSolver(f, J), dt, r0=r0)"
   ]
  },
  {
   "cell_type": "markdown",
   "id": "51f5859a-a63f-4774-b7a5-be38e9a054d5",
   "metadata": {},
   "source": [
    "# Comparing the accuracy vs VODE"
   ]
  },
  {
   "cell_type": "markdown",
   "id": "8ffb569b-37d4-4322-a79b-10f66b293f5f",
   "metadata": {},
   "source": [
    "Plotting function"
   ]
  },
  {
   "cell_type": "code",
   "execution_count": null,
   "id": "daadf9e7-c430-4aa2-94a2-bc5ec29dadb4",
   "metadata": {
    "editable": true,
    "slideshow": {
     "slide_type": ""
    },
    "tags": []
   },
   "outputs": [],
   "source": [
    "def plot_double_spring_solver_comparison(results: SolverResult):\n",
    "    plt.figure(figsize=(14,6))\n",
    "    for result in results:\n",
    "        plt.plot(result.ts, result.xs[0,:], linewidth=1)\n",
    "    plt.legend([result.solver_name for result in results])\n",
    "    plt.ylabel('displacement')\n",
    "    plt.xlabel('time')\n"
   ]
  },
  {
   "cell_type": "markdown",
   "id": "fc3e28d2-9c26-43a0-8efe-4066271c0ee4",
   "metadata": {},
   "source": [
    "Define the equation and initial conditions"
   ]
  },
  {
   "cell_type": "code",
   "execution_count": null,
   "id": "137d699a-d401-4620-9a2f-0ffb9b8e225d",
   "metadata": {},
   "outputs": [],
   "source": [
    "f, J, fq, fp = equation.f, equation.J, equation.fq, equation.fp\n",
    "\n",
    "r0 = np.array([0.06, 0.21, 0.0, 0.0])\n",
    "q0 = r0[:2]\n",
    "p0 = r0[2:]"
   ]
  },
  {
   "cell_type": "markdown",
   "id": "8619d713-efd8-4130-9f11-748778863445",
   "metadata": {},
   "source": [
    "Solve the equation using multiple solvers and compare the results"
   ]
  },
  {
   "cell_type": "code",
   "execution_count": null,
   "id": "5fb73755-8ad5-47b7-b76c-f6a02f1cd8c4",
   "metadata": {},
   "outputs": [],
   "source": [
    "dt_precise = 0.00001\n",
    "tt_precise = np.arange(0, 0.2, dt)\n",
    "exact_solution = VodeSolver(f, J).solve(tt_precise, r0)"
   ]
  },
  {
   "cell_type": "markdown",
   "id": "2e27c224-bc00-47c8-89f4-37d00c621b46",
   "metadata": {},
   "source": [
    "## Velocity verlet solver for double spring"
   ]
  },
  {
   "cell_type": "code",
   "execution_count": null,
   "id": "079cb58d-3a6c-4d75-8ccc-714173b9add7",
   "metadata": {},
   "outputs": [],
   "source": [
    "dt = 0.001\n",
    "tt = np.arange(0, 0.2, dt)\n",
    "tt_precise = np.arange(0, 0.2, dt)\n",
    "plot_double_spring_solver_comparison([\n",
    "    VelocityVerletSolver(fq, fp).solve(tt, q0, p0),\n",
    "    exact_solution,\n",
    "])"
   ]
  },
  {
   "cell_type": "markdown",
   "id": "bd1ef887-45b4-477c-bbf6-896cf7af6416",
   "metadata": {},
   "source": [
    "## Explicit euler for double spring"
   ]
  },
  {
   "cell_type": "code",
   "execution_count": null,
   "id": "ec1f343b-dd34-4c5e-9c03-021b62bccadb",
   "metadata": {
    "editable": true,
    "slideshow": {
     "slide_type": ""
    },
    "tags": []
   },
   "outputs": [],
   "source": [
    "dt = 0.05\n",
    "tt = np.arange(0, 2.0, dt)\n",
    "tt_precise = np.arange(0, 2.0, dt)\n",
    "plot_double_spring_solver_comparison([\n",
    "    ForwardEulerSolver(f).solve(tt, r0),\n",
    "    exact_solution,\n",
    "])"
   ]
  },
  {
   "cell_type": "markdown",
   "id": "c64371f4-5731-42b9-ad61-c5469848b008",
   "metadata": {},
   "source": [
    "## Plot and animate solutions"
   ]
  },
  {
   "cell_type": "markdown",
   "id": "06399181-0f5d-43a5-a0a3-1233e418a582",
   "metadata": {},
   "source": [
    "First, solve the problem using any solver."
   ]
  },
  {
   "cell_type": "code",
   "execution_count": null,
   "id": "9dfa91e4-24b8-44d4-9d7e-2a33025b2e62",
   "metadata": {},
   "outputs": [],
   "source": [
    "from solvers import \\\n",
    "    SemiImplicitEulerSolver2, \\\n",
    "    VodeSolver\n",
    "\n",
    "from equations import \\\n",
    "    DoubleSpring1, \\\n",
    "    HarmonicOscillator1\n",
    "\n",
    "\n",
    "equation = DoubleSpring1()\n",
    "f, J, fq, fp = equation.f, equation.J, equation.fq, equation.fp\n",
    "\n",
    "r0 = np.array([0.05, 0.07, 0.0, 0.0])\n",
    "q0 = r0[:2]\n",
    "p0 = r0[2:]\n",
    "t_end = 2.0\n",
    "\n",
    "dt_precise = 0.05\n",
    "tt_precise = np.arange(0, t_end, dt)\n",
    "exact_solution = VodeSolver(f, J).solve(tt_precise, r0)\n",
    "\n",
    "dt = 0.05\n",
    "tt = np.arange(0, t_end, dt)\n",
    "tt_precise = np.arange(0, t_end, dt)\n",
    "plot_double_spring_solver_comparison([\n",
    "    exact_solution,\n",
    "])"
   ]
  },
  {
   "cell_type": "markdown",
   "id": "0c5a4d67-a95a-4d13-988b-43665b03e5f7",
   "metadata": {},
   "source": [
    "Then, animate the solution using jupycanvas."
   ]
  },
  {
   "cell_type": "code",
   "execution_count": null,
   "id": "54d35de3-3e24-4d1f-b925-b3df644975bb",
   "metadata": {},
   "outputs": [],
   "source": [
    "from time import sleep\n",
    "\n",
    "from ipycanvas import Canvas, hold_canvas\n",
    "from ipycanvas import Path2D\n",
    "from math import sin, pi\n",
    "\n",
    "import scipy.signal\n",
    "\n",
    "display_sample_rate = 60 # [samples per second]\n",
    "simulated_time = tt_precise[-1] - tt_precise[0] # [seconds]\n",
    "animation_frame_count = int(simulated_time * display_sample_rate)\n",
    "\n",
    "resampled_xs, resampled_ts = scipy.signal.resample(exact_solution.xs, animation_frame_count, exact_solution.ts, axis=1)\n",
    "animation_dt = resampled_ts[1] - resampled_ts[0]\n",
    "\n",
    "canvas = Canvas(size=(640,400))\n",
    "canvas.scale(4000, 4000) # Convert canvas units into meters\n",
    "display(canvas)\n",
    "\n",
    "def draw_sissors(x1, x2, wigglyness=5):\n",
    "    distance = x2 - x1\n",
    "    s = lambda x: (x - x1)/(x2-x1)\n",
    "    gimme_y = lambda s: 0.01/2+0.002*sin(s*pi*2*wigglyness)\n",
    "\n",
    "    canvas.begin_path()\n",
    "    canvas.move_to(x1, gimme_y(0))\n",
    "    resolution = 100\n",
    "    for x in np.linspace(x1, x2, resolution):\n",
    "        y = gimme_y(s(x))\n",
    "        canvas.line_to(x, y)\n",
    "    canvas.line_width = 0.001\n",
    "    canvas.stroke()\n",
    "\n",
    "period=0.02\n",
    "for t, y0, y1 in zip(exact_solution.ts, exact_solution.xs[0,:], exact_solution.xs[1,:]):\n",
    "    t = float(t)\n",
    "    y0 = float(y0)\n",
    "    y1 = float(y1)\n",
    "    with hold_canvas():\n",
    "        canvas.clear()\n",
    "        draw_sissors(0, y0)\n",
    "        draw_sissors(y0, y1)\n",
    "        canvas.fill_style = \"green\"\n",
    "        canvas.fill_rect(y0-0.01/2, 0, 0.01, 0.01)\n",
    "        canvas.fill_style = \"red\"\n",
    "        canvas.fill_rect(y1-0.01/2, 0, 0.01, 0.01)\n",
    "\n",
    "    sleep(animation_dt)"
   ]
  },
  {
   "cell_type": "markdown",
   "id": "e5c5f793-d528-4c99-b443-a8896661aa3a",
   "metadata": {},
   "source": [
    "# Animating real-time"
   ]
  },
  {
   "cell_type": "code",
   "execution_count": null,
   "id": "aebfe9fb-5e54-4ad6-b374-d1cac4e54af2",
   "metadata": {},
   "outputs": [],
   "source": [
    "from time import sleep\n",
    "from ipycanvas import Canvas, hold_canvas\n",
    "from ipycanvas import Path2D\n",
    "from math import sin, pi, sqrt\n",
    "import time\n",
    "import scipy.signal\n",
    "\n",
    "from equations import \\\n",
    "    DoubleSpring1\n",
    "\n",
    "m0 = 1\n",
    "m1 = 2\n",
    "equation = DoubleSpring1(k0=100.0, m0=m0, k1=200.0, m1=m1, L0=0.05, L1=0.05)\n",
    "f, J = equation.f, equation.J\n",
    "\n",
    "frame_rate = 60.0 # Hz\n",
    "frame_duration = 1.0/frame_rate # s\n",
    "\n",
    "r0 = np.array([0.05, 0.07, 0.0, 0.0])\n",
    "t_start = time.monotonic()\n",
    "\n",
    "simulation = scipy.integrate.BDF(fun=f, t0=t_start, y0=r0, t_bound=1e99, jac=J, max_step=frame_duration)\n",
    "\n",
    "canvas = Canvas(width=640, height=200)\n",
    "canvas.scale(4000, 4000) # Convert canvas units into meters\n",
    "display(canvas)\n",
    "\n",
    "m0_size, m1_size = sqrt(m0)*0.01, sqrt(m1)*0.01\n",
    "\n",
    "def draw_sissors(x1, x2, wigglyness=10):\n",
    "    distance = x2 - x1\n",
    "    s = lambda x: (x - x1)/(x2-x1)\n",
    "    gimme_y = lambda s: 0.02+0.002*sin(s*pi*2*wigglyness)\n",
    "\n",
    "    canvas.begin_path()\n",
    "    canvas.move_to(x1, gimme_y(0))\n",
    "    resolution = 20\n",
    "    for x in np.linspace(x1, x2, resolution):\n",
    "        y = gimme_y(s(x))\n",
    "        canvas.line_to(x, y)\n",
    "    canvas.line_width = 0.0007\n",
    "    canvas.stroke()\n",
    "\n",
    "while True:\n",
    "    actual_t = time.monotonic()\n",
    "    \n",
    "    # Step physics forward until they are in front of real time\n",
    "    num_steps = 0\n",
    "    while simulation.t < actual_t:\n",
    "        sim_t_prev, sim_y_prev = simulation.t, simulation.y\n",
    "        simulation.step()\n",
    "        num_steps += 1\n",
    "    #print(num_steps)\n",
    "    sim_t, sim_y = simulation.t, simulation.y\n",
    "\n",
    "    #\n",
    "    #                         a          b\n",
    "    #                                -\n",
    "\n",
    "    # Interpolate y between physics frames\n",
    "    s = (actual_t - sim_t_prev)/(sim_t - sim_t_prev) # From 0 to 1 between sim_t_prev and sim_t\n",
    "    y = (1 - s)*sim_y_prev + s*sim_y\n",
    "    \n",
    "    with hold_canvas():\n",
    "        canvas.clear()\n",
    "        draw_sissors(0, y[0])\n",
    "        draw_sissors(y[0], y[1])\n",
    "        canvas.fill_style = \"green\"\n",
    "        canvas.fill_rect(y[0]-m0_size/2, 0.02-m0_size/2, m0_size, m0_size)\n",
    "        canvas.fill_style = \"red\"\n",
    "        canvas.fill_rect(y[1]-m1_size/2,  0.02-m1_size/2, m1_size, m1_size)\n",
    "        frame_time_so_far = time.monotonic() - actual_t\n",
    "        canvas.text_baseline = \"top\"\n",
    "        canvas.font = \"0.01px Arial\";\n",
    "        canvas.fill_text('%f' % frame_time_so_far, 0.01,0.01),\n",
    "        if frame_time_so_far > frame_duration:\n",
    "            canvas.fill_style = \"red\"\n",
    "            canvas.fill_rect(0, 0, 1, 1)\n",
    "    sleep(max(frame_duration - frame_time_so_far, 0))"
   ]
  },
  {
   "cell_type": "markdown",
   "id": "79999aea-84c6-4bf1-af39-fbc35f7f695f",
   "metadata": {},
   "source": [
    "# Triple spring\n",
    "Thanks, ChatGPT"
   ]
  },
  {
   "cell_type": "code",
   "execution_count": null,
   "id": "0636a39f-b306-4f4d-8183-79187a080959",
   "metadata": {},
   "outputs": [],
   "source": [
    "from time import sleep\n",
    "from ipycanvas import Canvas, hold_canvas\n",
    "from ipycanvas import Path2D\n",
    "from math import sin, pi, sqrt\n",
    "import time\n",
    "import scipy.signal\n",
    "\n",
    "from equations import TripleSpring\n",
    "\n",
    "m0 = 5\n",
    "m1 = 2\n",
    "m2 = 5\n",
    "equation = TripleSpring(k0=100.0, m0=m0, k1=200.0, m1=m1, k2=100.0, m2=m2, L0=0.05, L1=0.05, L2=0.05)\n",
    "f, J = equation.f, equation.J\n",
    "\n",
    "frame_rate = 60.0 # Hz\n",
    "frame_duration = 1.0/frame_rate # s\n",
    "\n",
    "r0 = np.array([0.05, 0.10, 0.15, 0.1, -0.1, 0.1])\n",
    "t_start = time.monotonic()\n",
    "\n",
    "simulation = scipy.integrate.BDF(fun=f, t0=t_start, y0=r0, t_bound=1e99, jac=None, max_step=frame_duration)\n",
    "\n",
    "canvas = Canvas(width=900, height=200)\n",
    "canvas.scale(4000, 4000) # Convert canvas units into meters\n",
    "display(canvas)\n",
    "\n",
    "m0_size, m1_size, m2_size = sqrt(m0)*0.01, sqrt(m1)*0.01, sqrt(m2)*0.01\n",
    "\n",
    "def draw_sissors(x1, x2, wigglyness=10):\n",
    "    distance = x2 - x1\n",
    "    s = lambda x: (x - x1)/(x2-x1)\n",
    "    gimme_y = lambda s: 0.02+0.002*sin(s*pi*2*wigglyness)\n",
    "\n",
    "    canvas.begin_path()\n",
    "    canvas.move_to(x1, gimme_y(0))\n",
    "    resolution = 20\n",
    "    for x in np.linspace(x1, x2, resolution):\n",
    "        y = gimme_y(s(x))\n",
    "        canvas.line_to(x, y)\n",
    "    canvas.line_width = 0.0007\n",
    "    canvas.stroke()\n",
    "\n",
    "while True:\n",
    "    actual_t = time.monotonic()\n",
    "    \n",
    "    # Step physics forward until they are in front of real time\n",
    "    num_steps = 0\n",
    "    while simulation.t < actual_t:\n",
    "        sim_t_prev, sim_y_prev = simulation.t, simulation.y\n",
    "        simulation.step()\n",
    "        num_steps += 1\n",
    "    #print(num_steps)\n",
    "    sim_t, sim_y = simulation.t, simulation.y\n",
    "\n",
    "    #\n",
    "    #                         a          b\n",
    "    #                                -\n",
    "\n",
    "    # Interpolate y between physics frames\n",
    "    s = (actual_t - sim_t_prev)/(sim_t - sim_t_prev) # From 0 to 1 between sim_t_prev and sim_t\n",
    "    y = (1 - s)*sim_y_prev + s*sim_y\n",
    "    \n",
    "    with hold_canvas():\n",
    "        canvas.clear()\n",
    "        draw_sissors(0, y[0])\n",
    "        draw_sissors(y[0], y[1])\n",
    "        draw_sissors(y[1], y[2])\n",
    "        canvas.fill_style = \"green\"\n",
    "        canvas.fill_rect(y[0]-m0_size/2, 0.02-m0_size/2, m0_size, m0_size)\n",
    "        canvas.fill_style = \"red\"\n",
    "        canvas.fill_rect(y[1]-m1_size/2,  0.02-m1_size/2, m1_size, m1_size)\n",
    "        canvas.fill_style = \"blue\"\n",
    "        canvas.fill_rect(y[2]-m2_size/2,  0.02-m2_size/2, m2_size, m2_size)\n",
    "        frame_time_so_far = time.monotonic() - actual_t\n",
    "        canvas.text_baseline = \"top\"\n",
    "        canvas.font = \"0.01px Arial\";\n",
    "        canvas.fill_text('%f' % frame_time_so_far, 0.01,0.01),\n",
    "        if frame_time_so_far > frame_duration:\n",
    "            canvas.fill_style = \"red\"\n",
    "            canvas.fill_rect(0, 0, 1, 1)\n",
    "    sleep(max(frame_duration - frame_time_so_far, 0))"
   ]
  },
  {
   "cell_type": "markdown",
   "id": "aace79ed-15cf-4c43-81af-6e7862cf7ee8",
   "metadata": {},
   "source": [
    "# Quad spring"
   ]
  },
  {
   "cell_type": "code",
   "execution_count": null,
   "id": "26ecf69e-5684-4479-aacb-12281f185874",
   "metadata": {},
   "outputs": [],
   "source": [
    "from time import sleep\n",
    "from ipycanvas import Canvas, hold_canvas\n",
    "from ipycanvas import Path2D\n",
    "from math import sin, pi, sqrt\n",
    "import time\n",
    "import scipy.signal\n",
    "\n",
    "from equations import QuadSpring\n",
    "\n",
    "# exploding stiffness #rtol=1e-3 or higher.\n",
    "# m0 = 1\n",
    "# m1 = 1\n",
    "# m2 = 1\n",
    "# m3 = 1\n",
    "# equation = QuadSpring(k0=100000.0, m0=m0, k1=10000.0, m1=m1, k2=1000.0, m2=m2, k3=100.0, m3=m2, L0=0.05, L1=0.05, L2=0.05, L3=0.05)\n",
    "# r0 = np.array([0.05, 0.10, 0.15, 0.20, 0.1, 0.1, 0.1, 0.1])\n",
    "\n",
    "m0 = 4\n",
    "m1 = 1\n",
    "m2 = 1\n",
    "m3 = 4\n",
    "equation = QuadSpring(k0=1000.0, m0=m0, k1=500.0, m1=m1, k2=100000.0, m2=m2, k3=500.0, m3=m2, L0=0.05, L1=0.05, L2=0.05, L3=0.05)\n",
    "f, J = equation.f, equation.J\n",
    "\n",
    "frame_rate = 60.0 # Hz\n",
    "frame_duration = 1.0/frame_rate # s\n",
    "\n",
    "r0 = np.array([0.05, 0.10, 0.15, 0.20, 0.2, 0.3, 0.3, 0.0])\n",
    "slomo = 3\n",
    "t_start = time.monotonic()/slomo\n",
    "\n",
    "simulation = scipy.integrate.BDF(fun=f, t0=t_start, y0=r0, t_bound=10e99, jac=J, max_step=frame_duration/2, rtol=1e-5)\n",
    "\n",
    "canvas = Canvas(width=1000, height=200)\n",
    "canvas.scale(4000, 4000) # Convert canvas units into meters\n",
    "display(canvas)\n",
    "\n",
    "m0_size, m1_size, m2_size, m3_size = sqrt(m0)*0.01, sqrt(m1)*0.01, sqrt(m2)*0.01, sqrt(m3)*0.01\n",
    "\n",
    "def draw_sissors(x1, x2, wigglyness=10):\n",
    "    distance = x2 - x1\n",
    "    s = lambda x: (x - x1)/(x2-x1)\n",
    "    gimme_y = lambda s: 0.02+0.002*sin(s*pi*2*wigglyness)\n",
    "\n",
    "    canvas.begin_path()\n",
    "    canvas.move_to(x1, gimme_y(0))\n",
    "    resolution = 20\n",
    "    for x in np.linspace(x1, x2, resolution):\n",
    "        y = gimme_y(s(x))\n",
    "        canvas.line_to(x, y)\n",
    "    canvas.line_width = 0.0007\n",
    "    canvas.stroke()\n",
    "\n",
    "\n",
    "\n",
    "while True:\n",
    "    actual_t = time.monotonic()/slomo\n",
    "    \n",
    "    # Step physics forward until they are in front of real time\n",
    "    num_steps = 0\n",
    "    while simulation.t < actual_t:\n",
    "        sim_t_prev, sim_y_prev = simulation.t, simulation.y\n",
    "        simulation.step()\n",
    "        num_steps += 1\n",
    "    #print(num_steps)\n",
    "    sim_t, sim_y = simulation.t, simulation.y\n",
    "\n",
    "    # Interpolate y between physics frames\n",
    "    s = (actual_t - sim_t_prev)/(sim_t - sim_t_prev) # From 0 to 1 between sim_t_prev and sim_t\n",
    "    y = (1 - s)*sim_y_prev + s*sim_y\n",
    "    \n",
    "    with hold_canvas():\n",
    "        canvas.clear()\n",
    "        draw_sissors(0, y[0])\n",
    "        draw_sissors(y[0], y[1])\n",
    "        draw_sissors(y[1], y[2])\n",
    "        draw_sissors(y[2], y[3])\n",
    "        canvas.fill_style = \"green\"\n",
    "        canvas.fill_rect(y[0]-m0_size/2, 0.02-m0_size/2, m0_size, m0_size)\n",
    "        canvas.fill_style = \"red\"\n",
    "        canvas.fill_rect(y[1]-m1_size/2,  0.02-m1_size/2, m1_size, m1_size)\n",
    "        canvas.fill_style = \"blue\"\n",
    "        canvas.fill_rect(y[2]-m2_size/2,  0.02-m2_size/2, m2_size, m2_size)\n",
    "        canvas.fill_style = \"magenta\"\n",
    "        canvas.fill_rect(y[3]-m3_size/2,  0.02-m3_size/2, m3_size, m3_size)\n",
    "        frame_time_so_far = time.monotonic()/slomo - actual_t\n",
    "        # canvas.text_baseline = \"top\"\n",
    "        # canvas.font = \"0.01px Arial\";\n",
    "        # canvas.fill_text('%f' % frame_time_so_far, 0.01,0.01),\n",
    "        # if frame_time_so_far > frame_duration:\n",
    "        #     canvas.fill_style = \"red\"\n",
    "        #     canvas.fill_rect(0, 0, 1, 1)\n",
    "    sleep(max(frame_duration - frame_time_so_far*slomo, 0))"
   ]
  },
  {
   "cell_type": "code",
   "execution_count": null,
   "id": "699636ca-34e3-4338-b509-54032a279731",
   "metadata": {},
   "outputs": [],
   "source": []
  },
  {
   "cell_type": "code",
   "execution_count": null,
   "id": "72c830ce-bd42-4da3-b752-6f3e5770607d",
   "metadata": {},
   "outputs": [],
   "source": []
  },
  {
   "cell_type": "code",
   "execution_count": null,
   "id": "336d79b2-3329-4173-a202-8842ba86e93a",
   "metadata": {},
   "outputs": [],
   "source": []
  },
  {
   "cell_type": "code",
   "execution_count": null,
   "id": "70112947-1734-43ca-99f0-95947e5b3f6d",
   "metadata": {},
   "outputs": [],
   "source": []
  }
 ],
 "metadata": {
  "kernelspec": {
   "display_name": "Python 3 (ipykernel)",
   "language": "python",
   "name": "python3"
  },
  "language_info": {
   "codemirror_mode": {
    "name": "ipython",
    "version": 3
   },
   "file_extension": ".py",
   "mimetype": "text/x-python",
   "name": "python",
   "nbconvert_exporter": "python",
   "pygments_lexer": "ipython3",
   "version": "3.10.12"
  }
 },
 "nbformat": 4,
 "nbformat_minor": 5
}
