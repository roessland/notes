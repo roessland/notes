{
 "cells": [
  {
   "cell_type": "markdown",
   "id": "6fef8312-eb17-4c3e-b85f-71381af98ff7",
   "metadata": {},
   "source": [
    "# Chapter 1: Introduction\n",
    "\n",
    "https://tobydriscoll.net/fnc-julia/intro/overview.html"
   ]
  },
  {
   "cell_type": "code",
   "execution_count": null,
   "id": "91a804f5-f9b8-4320-9891-5651167c8f02",
   "metadata": {},
   "outputs": [],
   "source": [
    "using Plots;"
   ]
  },
  {
   "cell_type": "markdown",
   "id": "36962f54-76b5-4c22-87d1-6bf4fd5cd8a6",
   "metadata": {},
   "source": [
    "## 1.1\n",
    "https://tobydriscoll.net/fnc-julia/intro/floating-point.html"
   ]
  },
  {
   "cell_type": "markdown",
   "id": "2a73cc82-3248-400f-9da6-ab5a3d7e575f",
   "metadata": {},
   "source": [
    "Floats are not associative under addition."
   ]
  },
  {
   "cell_type": "code",
   "execution_count": null,
   "id": "e577be29-ab09-433b-9290-4416e2140e2d",
   "metadata": {},
   "outputs": [],
   "source": [
    "e = eps()/2\n",
    "(1.0 + e) - 1.0"
   ]
  },
  {
   "cell_type": "code",
   "execution_count": null,
   "id": "ac580ccf-04b3-483e-908c-21259c70b5d4",
   "metadata": {},
   "outputs": [],
   "source": [
    "1.0 + (e - 1.0)"
   ]
  },
  {
   "cell_type": "markdown",
   "id": "14d50d54-9581-4e8e-a938-de5605672459",
   "metadata": {},
   "source": [
    "### Exercise 1.1.1\n",
    "Green notebook, page 44."
   ]
  },
  {
   "cell_type": "code",
   "execution_count": null,
   "id": "faa34f37-8748-4d49-9f4d-d899082a5acf",
   "metadata": {},
   "outputs": [],
   "source": [
    "d=4\n",
    "f=collect(0:15)/2^d\n",
    "display((2^-2, (1+15/16) * 2^-2))\n",
    "display((2^-1, (1+15/16) * 2^-1))\n",
    "display((2^0, (1+15/16) * 2^0))\n",
    "display((2^1, (1+15/16) * 2^1))\n",
    "display((2^2, (1+15/16) * 2^2))"
   ]
  },
  {
   "cell_type": "markdown",
   "id": "ea45b08e-e9e3-4eb9-b46d-3c3468a01f04",
   "metadata": {},
   "source": [
    "Each range is inclusive, and has 16 numbers in it."
   ]
  },
  {
   "cell_type": "code",
   "execution_count": null,
   "id": "b980a8d4-5bd2-4192-8267-dac43ef42195",
   "metadata": {},
   "outputs": [],
   "source": [
    "d=4\n",
    "f=collect(0:15)/2^d\n",
    "F = [0.0]\n",
    "F = vcat(F, (f .+ 1) .* 2^-2)\n",
    "F = vcat(F, (f .+ 1) .* 2^-1)\n",
    "F = vcat(F, (f .+ 1) .* 2^0)\n",
    "F = vcat(F, (f .+ 1) .* 2^1)\n",
    "F = vcat(F, (f .+ 1) .* 2^2)\n",
    "F\n",
    "\n",
    "scatter(F, linestyle=:dashdot)"
   ]
  },
  {
   "cell_type": "markdown",
   "id": "9b0c604b-2020-428a-9398-70acdec4ec8e",
   "metadata": {},
   "source": [
    "There are infinitely many floats between 0 and $\\epsilon$, given that the exponent is allowed to be infinitely small. In practice the exponent only has a certain number of bits."
   ]
  },
  {
   "cell_type": "markdown",
   "id": "4561043c-f3fb-457f-baa7-ec5e4a7e98ba",
   "metadata": {},
   "source": [
    "---\n",
    "\n",
    "*(a)* Count the numbers in $[1/2, 4]$\n",
    "\n",
    "---\n",
    "\n",
    "There are 16 numbers in the range [1, 2), 16 numbers in [2, 4), and 16 numbers in [1/2, 1). There are 16 numbers in [4, 8).\n",
    "\n",
    "So in the real interval $[1/2, 4]$ there are 16 + 16 + 16 + 1=49 unique numbers.\n",
    "\n",
    "We can verify this with code:"
   ]
  },
  {
   "cell_type": "code",
   "execution_count": null,
   "id": "ea2b4672-7aba-4e90-9ebf-571e8f2a3b28",
   "metadata": {},
   "outputs": [],
   "source": [
    "# Generate all floats in [1/8, 15).\n",
    "d=BigInt(4)\n",
    "f=map(i -> BigInt(i)//2^d, 0:15)\n",
    "F=collect(Iterators.flatten(\n",
    "    map(n -> (f .+ 1) .*(2//1)^n, -4:4)\n",
    "))\n",
    "\n",
    "# Count those in [1/4, 4].\n",
    "length(filter(fl -> fl >= 1//2 && fl <= 4, F))"
   ]
  },
  {
   "cell_type": "markdown",
   "id": "579a0b11-c6d4-4767-a085-da4bb625a26f",
   "metadata": {},
   "source": [
    "---\n",
    "\n",
    "*(b)* \n",
    "\n",
    "What is the closest element in $\\mathbb F$ to 1/10?\n",
    "\n",
    "---"
   ]
  },
  {
   "cell_type": "markdown",
   "id": "fcb938cb-fb82-41e3-a683-058e3203f6da",
   "metadata": {},
   "source": [
    "First, we find which interval $[2^n, 2^n+1)$ it is in. Just enumerating here but it could be so solved."
   ]
  },
  {
   "cell_type": "code",
   "execution_count": null,
   "id": "94292010-7603-4901-be64-4b98c806837e",
   "metadata": {},
   "outputs": [],
   "source": [
    "2^-4, 2^-3, 2^-4"
   ]
  },
  {
   "cell_type": "markdown",
   "id": "08fe665f-01cc-468f-8b56-cb8331a25d38",
   "metadata": {},
   "source": [
    "Then, enumerating the elements in that range:"
   ]
  },
  {
   "cell_type": "code",
   "execution_count": null,
   "id": "1450a6fb-d53b-4221-870a-fac93eac8c60",
   "metadata": {},
   "outputs": [],
   "source": [
    "d=4\n",
    "n = -4\n",
    "for z in 0:15\n",
    "    f = z // 2^(d)\n",
    "    F = (1+f) // 2^(-n)\n",
    "    println(F, \" delta=\", F-1/10, \" \", z)\n",
    "end"
   ]
  },
  {
   "cell_type": "markdown",
   "id": "060b5e86-d23a-4001-94ef-c4c63462e2b6",
   "metadata": {},
   "source": [
    "So the closest one is 13/128"
   ]
  },
  {
   "cell_type": "markdown",
   "id": "297b4c20-a7da-4630-bd6c-1ba2b676d691",
   "metadata": {},
   "source": [
    "### Exercise 1.1.3"
   ]
  },
  {
   "cell_type": "markdown",
   "id": "5e96fa8b-62e8-4de1-b450-d159d5648d4e",
   "metadata": {},
   "source": [
    "$\\pi$ approximations. Find their absolute and relative accuracies."
   ]
  },
  {
   "cell_type": "code",
   "execution_count": null,
   "id": "66887b83-ba18-4b13-a00b-dca6e7f560a4",
   "metadata": {},
   "outputs": [],
   "source": [
    "a = 355//113\n",
    "@show a;\n",
    "@show float(a);"
   ]
  },
  {
   "cell_type": "code",
   "execution_count": null,
   "id": "dd3f21c0-6ec4-4fc1-a688-864a8638e135",
   "metadata": {},
   "outputs": [],
   "source": [
    "b = 103638//32989\n",
    "@show b;\n",
    "@show float(b);"
   ]
  },
  {
   "cell_type": "markdown",
   "id": "4f141f70-42f5-4d55-949e-36bf38314eca",
   "metadata": {},
   "source": [
    "Pi is a default import in Julia."
   ]
  },
  {
   "cell_type": "code",
   "execution_count": null,
   "id": "fd2ea7b0-976f-4bab-88d8-d6e8fd406565",
   "metadata": {},
   "outputs": [],
   "source": [
    "pi"
   ]
  },
  {
   "cell_type": "code",
   "execution_count": null,
   "id": "8a60a31c-d441-48b7-93e7-873c9a4c64cc",
   "metadata": {},
   "outputs": [],
   "source": [
    "π"
   ]
  },
  {
   "cell_type": "code",
   "execution_count": null,
   "id": "def8f69c-fddc-4f9c-9153-5f7f3444fbdb",
   "metadata": {},
   "outputs": [],
   "source": [
    "typeof(pi)"
   ]
  },
  {
   "cell_type": "markdown",
   "id": "9804d5ce-f22f-40d2-8adb-046bf3038edb",
   "metadata": {},
   "source": [
    "_Absolute accuracy_ is the absolute value of the distance to the true value of $\\pi$."
   ]
  },
  {
   "cell_type": "code",
   "execution_count": null,
   "id": "3e83a92d-085b-4788-9e77-e8c7a3611787",
   "metadata": {},
   "outputs": [],
   "source": [
    "abs_acc(x) = abs(x - π)"
   ]
  },
  {
   "cell_type": "code",
   "execution_count": null,
   "id": "1e303eb5-4883-4a30-addb-4b9f951037fb",
   "metadata": {},
   "outputs": [],
   "source": [
    "abs_acc(a)"
   ]
  },
  {
   "cell_type": "code",
   "execution_count": null,
   "id": "72cf3af3-ec43-40ac-80d4-81ca28c8e8c6",
   "metadata": {},
   "outputs": [],
   "source": [
    "abs_acc(b)"
   ]
  },
  {
   "cell_type": "code",
   "execution_count": null,
   "id": "5be577fe-b644-4ddb-a44d-15439c9d5551",
   "metadata": {},
   "outputs": [],
   "source": [
    "abs(big(pi) - float(pi))"
   ]
  },
  {
   "cell_type": "markdown",
   "id": "77a085a0-33fb-4962-9796-1c013a872d60",
   "metadata": {},
   "source": [
    "_Relative accuracy_ is the absolute accuracy divided by the true value.\n"
   ]
  },
  {
   "cell_type": "code",
   "execution_count": null,
   "id": "034b1812-7de8-4c01-9f8d-1700b8e9e77e",
   "metadata": {},
   "outputs": [],
   "source": [
    "rel_acc(x) = abs_acc(x)/π"
   ]
  },
  {
   "cell_type": "code",
   "execution_count": null,
   "id": "dc802f29-65f4-419c-89a6-87075173744d",
   "metadata": {},
   "outputs": [],
   "source": [
    "@show rel_acc(a);\n",
    "@show rel_acc(b);"
   ]
  },
  {
   "cell_type": "markdown",
   "id": "7df5e454-f7c6-4d5f-a270-d15c75efc139",
   "metadata": {},
   "source": [
    "### Exercise 1.1.4\n",
    "TODO"
   ]
  },
  {
   "cell_type": "markdown",
   "id": "850cf04c-fdd2-447f-9d46-332321903ab9",
   "metadata": {},
   "source": [
    "### Exercise 1.1.5"
   ]
  },
  {
   "cell_type": "code",
   "execution_count": null,
   "id": "09224b8e-ca0c-41e9-bc80-745e1a3dd5d6",
   "metadata": {},
   "outputs": [],
   "source": [
    "largest_float = floatmax()"
   ]
  },
  {
   "cell_type": "code",
   "execution_count": null,
   "id": "e4589813-7c55-41fc-b564-f456d941bf73",
   "metadata": {},
   "outputs": [],
   "source": [
    "nextfloat(largest_float)"
   ]
  },
  {
   "cell_type": "code",
   "execution_count": null,
   "id": "5f8e4ef0-ba0e-4711-bced-792689b62088",
   "metadata": {},
   "outputs": [],
   "source": [
    "nextfloat(-Inf)"
   ]
  },
  {
   "cell_type": "code",
   "execution_count": null,
   "id": "639e6810-6f5e-4cb4-be1d-2a7b22d88b70",
   "metadata": {},
   "outputs": [],
   "source": [
    "nextfloat(nextfloat(-Inf))"
   ]
  },
  {
   "cell_type": "code",
   "execution_count": null,
   "id": "91840cc1-746e-4b65-a906-c93778085168",
   "metadata": {},
   "outputs": [],
   "source": [
    "nextfloat(nextfloat(-Inf)) - nextfloat(-Inf)"
   ]
  },
  {
   "cell_type": "markdown",
   "id": "4d5f9563-9642-4322-9284-a370143b8c17",
   "metadata": {},
   "source": [
    "Woah."
   ]
  },
  {
   "cell_type": "markdown",
   "id": "3a5265f2-edda-49f0-9baf-a9678314cbab",
   "metadata": {},
   "source": [
    "## 1.2 Problems and conditioning"
   ]
  },
  {
   "cell_type": "code",
   "execution_count": null,
   "id": "748ba8d5-441d-4966-85d0-0d6149f93dc8",
   "metadata": {},
   "outputs": [],
   "source": [
    "ϵ = 1e-6"
   ]
  },
  {
   "cell_type": "code",
   "execution_count": null,
   "id": "79a4e41a-a93b-4d5a-8fdc-eb4b65b9bcb9",
   "metadata": {},
   "outputs": [],
   "source": [
    "addone(x) = x+1;"
   ]
  },
  {
   "cell_type": "code",
   "execution_count": null,
   "id": "4cc1e836-a639-4fe7-a561-a84221c34e77",
   "metadata": {},
   "outputs": [],
   "source": [
    "addoneʹ(x) = 1; # ctrl-fn-space \"prime\", or \\prime<tab>"
   ]
  },
  {
   "cell_type": "code",
   "execution_count": null,
   "id": "54e0cbc8-8b60-485d-9c07-899992c0871a",
   "metadata": {},
   "outputs": [],
   "source": [
    "cond_addone(x) = abs(x * addoneʹ(x) / addone(x));"
   ]
  },
  {
   "cell_type": "code",
   "execution_count": null,
   "id": "bd5a8fe5-a5d2-4ad1-a299-70a0c1cf035c",
   "metadata": {},
   "outputs": [],
   "source": [
    "@show cond_addone(100000); # approaches 1 for large x >> 1"
   ]
  },
  {
   "cell_type": "code",
   "execution_count": null,
   "id": "a0b3a398-32f0-42b7-ac1e-8f4f20dd34d5",
   "metadata": {},
   "outputs": [],
   "source": [
    "@show cond_addone(-1 + ϵ); # approaches Inf for x -> -1"
   ]
  },
  {
   "cell_type": "code",
   "execution_count": null,
   "id": "5a1fd897-58e1-4bdb-8f15-0ad6833e3b16",
   "metadata": {},
   "outputs": [],
   "source": [
    "a = Float64(-1 + 0.0000000000123456789)\n",
    "@show cond_addone(a);\n",
    "@show addone(a);"
   ]
  },
  {
   "cell_type": "markdown",
   "id": "e02629a4-2fca-48cc-ba5e-62c2653697e7",
   "metadata": {},
   "source": [
    "### Exercises\n",
    "https://tobydriscoll.net/fnc-julia/intro/conditioning.html#exercises\n",
    "TODO"
   ]
  },
  {
   "cell_type": "code",
   "execution_count": null,
   "id": "3fea124a-3a39-4a2a-9d10-37e732dd38f4",
   "metadata": {},
   "outputs": [],
   "source": [
    "using FundamentalsNumericalComputation"
   ]
  },
  {
   "cell_type": "code",
   "execution_count": null,
   "id": "9122b5ac-c680-431d-afc5-dd515347bb0d",
   "metadata": {},
   "outputs": [],
   "source": []
  }
 ],
 "metadata": {
  "kernelspec": {
   "display_name": "Julia 1.9.3",
   "language": "julia",
   "name": "julia-1.9"
  },
  "language_info": {
   "file_extension": ".jl",
   "mimetype": "application/julia",
   "name": "julia",
   "version": "1.9.3"
  }
 },
 "nbformat": 4,
 "nbformat_minor": 5
}
