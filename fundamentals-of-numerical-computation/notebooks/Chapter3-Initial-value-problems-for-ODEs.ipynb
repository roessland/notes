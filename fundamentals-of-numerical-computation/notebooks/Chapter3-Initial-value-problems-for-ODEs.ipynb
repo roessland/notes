{
 "cells": [
  {
   "cell_type": "markdown",
   "metadata": {},
   "source": [
    "# Chapter 6: Initial-value problems for ODEs"
   ]
  },
  {
   "cell_type": "code",
   "execution_count": null,
   "metadata": {},
   "outputs": [],
   "source": [
    "using FundamentalsNumericalComputation"
   ]
  },
  {
   "cell_type": "code",
   "execution_count": null,
   "metadata": {},
   "outputs": [],
   "source": [
    "f = (u,p,t) -> sin((t+u)^2)\n",
    "u0 = -1.0\n",
    "tspan = (0.0, 4.0);"
   ]
  },
  {
   "cell_type": "code",
   "execution_count": null,
   "metadata": {},
   "outputs": [],
   "source": [
    "ivp = ODEProblem(f, u0, tspan)\n",
    "sol = solve(ivp, Tsit5());\n",
    "\n",
    "plot(sol, \n",
    "    ylabel=L\"u(t)\", # L\"string\" is a LaTeX string\n",
    "    title=L\"u'=\\sin((t+u)^2)\",\n",
    "    )\n",
    "\n",
    "scatter!([1], [sol(1)], label=\"(1, u(1))\")\n",
    "scatter!(sol.t, sol.u)"
   ]
  },
  {
   "cell_type": "markdown",
   "metadata": {},
   "source": [
    "Can use the solution object."
   ]
  },
  {
   "cell_type": "code",
   "execution_count": null,
   "metadata": {},
   "outputs": [],
   "source": [
    "@show sol(1.0);"
   ]
  },
  {
   "cell_type": "markdown",
   "metadata": {},
   "source": [
    "The solver finds values only at discrete points."
   ]
  },
  {
   "cell_type": "code",
   "execution_count": null,
   "metadata": {},
   "outputs": [],
   "source": []
  }
 ],
 "metadata": {
  "kernelspec": {
   "display_name": "Julia 1.9.3",
   "language": "julia",
   "name": "julia-1.9"
  },
  "language_info": {
   "file_extension": ".jl",
   "mimetype": "application/julia",
   "name": "julia",
   "version": "1.9.3"
  },
  "orig_nbformat": 4
 },
 "nbformat": 4,
 "nbformat_minor": 2
}
