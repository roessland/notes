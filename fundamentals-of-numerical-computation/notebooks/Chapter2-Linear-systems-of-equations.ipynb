{
 "cells": [
  {
   "cell_type": "markdown",
   "id": "1d3a2d5a-007d-4d20-87bf-dc385a6c9994",
   "metadata": {},
   "source": [
    "# Chapter 2 - Linear systems of equations"
   ]
  },
  {
   "cell_type": "markdown",
   "id": "058b7422-2449-43bc-a066-5cfaef7286c4",
   "metadata": {},
   "source": [
    "https://tobydriscoll.net/fnc-julia/linsys/matrices.html"
   ]
  },
  {
   "cell_type": "code",
   "execution_count": null,
   "id": "a2294020-977f-4321-9c5d-356aa2448cab",
   "metadata": {},
   "outputs": [],
   "source": [
    "using Revise;\n",
    "using Test;\n",
    "using MyFNC;\n",
    "using FundamentalsNumericalComputation;\n",
    "# import Pkg; Pkg.add(\"AppleAccelerate\")\n",
    "using AppleAccelerate;"
   ]
  },
  {
   "cell_type": "markdown",
   "id": "1201c2e0-7fe5-431b-8c0e-4bddd8250af4",
   "metadata": {},
   "source": [
    "# 2.2 Computing with matrices"
   ]
  },
  {
   "cell_type": "code",
   "execution_count": null,
   "id": "02f86df1",
   "metadata": {},
   "outputs": [],
   "source": [
    "# Either semicolon or newline creates a row\n",
    "A = [ 1 2 3 4 5; 50 40 30 20 10 \n",
    "π √2 exp(1) (1+√5)/2 log(3)];\n",
    "\n",
    "display(A)"
   ]
  },
  {
   "cell_type": "code",
   "execution_count": null,
   "id": "81471157",
   "metadata": {},
   "outputs": [],
   "source": [
    "m,n = size(A)"
   ]
  },
  {
   "cell_type": "markdown",
   "id": "e12c7c1e",
   "metadata": {},
   "source": [
    "## Matrix/vector basics"
   ]
  },
  {
   "cell_type": "code",
   "execution_count": null,
   "id": "4e1601cf",
   "metadata": {},
   "outputs": [],
   "source": [
    "# Vector only has one dimension\n",
    "x = [ 3, 3, 0, 1, 0 ]\n",
    "@show size(x)\n",
    "@show typeof(x)\n",
    "@show size(x')  # adjoint of vector is row matrix.\n",
    "@show size(x'') # adjoin of row matrix is a vector\n",
    "\n",
    "# Can use comma or newline\n",
    "x′ = [\n",
    "    1\n",
    "    2\n",
    "    3\n",
    "    4\n",
    "    5\n",
    "] \n",
    "@show size(x′)\n",
    "@show typeof(x′)\n",
    "\n",
    "# Without comma it becomes a row matrix\n",
    "X = [ 3 3 1im 1 0]\n",
    "@show size(X)\n",
    "@show typeof(X)\n",
    "\n",
    "# Can take adjoint / complex conjugate with single quote\n",
    "X'"
   ]
  },
  {
   "cell_type": "markdown",
   "id": "5a189f1a",
   "metadata": {},
   "source": [
    "#### Blocks\n",
    "\n",
    "You can concate matrix and vectors in math notation, as long as the dimensions are compatible."
   ]
  },
  {
   "cell_type": "code",
   "execution_count": null,
   "id": "c80e14c6",
   "metadata": {},
   "outputs": [],
   "source": [
    "[x x]"
   ]
  },
  {
   "cell_type": "code",
   "execution_count": null,
   "id": "6b58ae05",
   "metadata": {},
   "outputs": [],
   "source": [
    "[x\n",
    " x]"
   ]
  },
  {
   "cell_type": "code",
   "execution_count": null,
   "id": "ff040b65",
   "metadata": {},
   "outputs": [],
   "source": [
    "# incompatible\n",
    "[x x; x]"
   ]
  },
  {
   "cell_type": "markdown",
   "id": "37d6ed18",
   "metadata": {},
   "source": [
    "### Building matrices"
   ]
  },
  {
   "cell_type": "markdown",
   "id": "7dadabbe",
   "metadata": {},
   "source": [
    "With ranges"
   ]
  },
  {
   "cell_type": "code",
   "execution_count": null,
   "id": "0692f96c",
   "metadata": {},
   "outputs": [],
   "source": [
    "display([1:3 1:3])"
   ]
  },
  {
   "cell_type": "code",
   "execution_count": null,
   "id": "cede6657",
   "metadata": {},
   "outputs": [],
   "source": [
    "display([(1:3)'; (1:3)'])"
   ]
  },
  {
   "cell_type": "code",
   "execution_count": null,
   "id": "9b4ebf02",
   "metadata": {},
   "outputs": [],
   "source": [
    "# Final semicolon is important, and converts to a matrix\n",
    "display([ [(1:3)'; (1:3)'; (1:3)']; ])\n",
    "display([ [(1:3)'; (1:3)'; (1:3)'] ])"
   ]
  },
  {
   "cell_type": "code",
   "execution_count": null,
   "id": "d47413bf",
   "metadata": {},
   "outputs": [],
   "source": [
    "# Putting it all together\n",
    "display([ [(1:3)'; (1:3)'; (1:3)'] 4:6])\n"
   ]
  },
  {
   "cell_type": "code",
   "execution_count": null,
   "id": "0d9f0e2f",
   "metadata": {},
   "outputs": [],
   "source": [
    "### Non-integer ranges"
   ]
  },
  {
   "cell_type": "code",
   "execution_count": null,
   "id": "2fdf79e8",
   "metadata": {},
   "outputs": [],
   "source": [
    "@show collect(1:10:0.1) # no worky!\n",
    "@show collect(1:10:(0.1)) # no worky!\n",
    "@show collect(1:0.1:2) # distance is the middle parameter!"
   ]
  },
  {
   "cell_type": "code",
   "execution_count": null,
   "id": "5fd93062",
   "metadata": {},
   "outputs": [],
   "source": [
    "# range computes a range with the given number of numbers\n",
    "@show range(-1.5, 1.5, 5)\n",
    "@show size(range(-1.5, 1.5, 5))\n",
    "@show collect(range(-1.5, 1.5, 5))"
   ]
  },
  {
   "cell_type": "code",
   "execution_count": null,
   "id": "3a6d3675",
   "metadata": {},
   "outputs": [],
   "source": [
    "s = range(-1, 1, length=5) # kwarg for readability\n",
    "# s[0] # cannot access zero index\n",
    "# s[-1] # cannot access negative indices\n",
    "\n",
    "# end is magic and is the last index in the range.\n",
    "@show s[end]  \n",
    "\n",
    "\n",
    "# ranges are lazy\n",
    "@show range(-1, 1, length=typemax(Int))[end-1]"
   ]
  },
  {
   "cell_type": "code",
   "execution_count": null,
   "id": "26ea3e41",
   "metadata": {},
   "outputs": [],
   "source": [
    "# RIP memory\n",
    "# collect(range(-1, 1, length=typemax(Int32)))\n",
    "# no way to clear used memory in REPL? Restart kernel to free this mistake."
   ]
  },
  {
   "cell_type": "code",
   "execution_count": null,
   "id": "aca54952",
   "metadata": {},
   "outputs": [],
   "source": [
    "using Profile\n",
    "Profile.clear()"
   ]
  },
  {
   "cell_type": "markdown",
   "id": "3d0183f3",
   "metadata": {},
   "source": [
    "### Array indexing with ranges\n",
    "Easily produce some intricate patterns"
   ]
  },
  {
   "cell_type": "code",
   "execution_count": null,
   "id": "638ffe9e",
   "metadata": {},
   "outputs": [],
   "source": [
    "A = zeros(5,6)"
   ]
  },
  {
   "cell_type": "markdown",
   "id": "945f0605",
   "metadata": {},
   "source": []
  },
  {
   "cell_type": "code",
   "execution_count": null,
   "id": "46831d4b",
   "metadata": {},
   "outputs": [],
   "source": [
    "A = zeros(5,6);\n",
    "\n",
    "A[1:2:end,2:2:end] .= 1\n",
    "display(A)\n",
    "\n",
    "A[2:2:end,1:2:end] .= 2\n",
    "display(A)"
   ]
  },
  {
   "cell_type": "code",
   "execution_count": null,
   "id": "71ebd279",
   "metadata": {},
   "outputs": [],
   "source": [
    "using Plots;\n",
    "Plots.heatmap(A)"
   ]
  },
  {
   "cell_type": "markdown",
   "id": "d0f24da9",
   "metadata": {},
   "source": [
    "### Indexing arrays with tuples, and spreading"
   ]
  },
  {
   "cell_type": "code",
   "execution_count": null,
   "id": "8548850b",
   "metadata": {},
   "outputs": [],
   "source": [
    "A = [1 2 ; 3 4]\n",
    "display(A)\n",
    "\n",
    "A[2,2] = 9\n",
    "display(A)\n",
    "\n",
    "typeof((2,2))\n",
    "bottomright = (2,2)\n",
    "topleft = (1,1)\n",
    "\n",
    "# Doesn't work, cannot index with tuple\n",
    "# A[bottomright] = 99\n",
    "\n",
    "# Works! Can spread a tuple.\n",
    "A[bottomright...] = 99\n",
    "\n",
    "# Doesn't work, setindex expects a list of indices, not a tuple\n",
    "# setindex!(A, bottomright, 99) \n",
    "\n",
    "# Works! Can spread the tuple, and setindex! expects second arg to be the value.\n",
    "setindex!(A, 88, topleft...) \n",
    "display(A)\n"
   ]
  },
  {
   "cell_type": "markdown",
   "id": "304482a3",
   "metadata": {},
   "source": [
    "### 2.2 Exercises"
   ]
  },
  {
   "cell_type": "code",
   "execution_count": null,
   "id": "8d96c6db",
   "metadata": {},
   "outputs": [],
   "source": [
    "A = [2 1 1 0\n",
    "     0 -1 4 1\n",
    "     2 2 0 -2\n",
    "     1 3 -1 5]\n",
    "\n",
    "B = [3 -1 0 2\n",
    "     7 1 0 2];\n",
    "\n",
    "u = [2, -1, 3, 1]\n",
    "\n",
    "v = [pi ℯ]\n",
    "@show v"
   ]
  },
  {
   "cell_type": "code",
   "execution_count": null,
   "id": "6c91f2be",
   "metadata": {},
   "outputs": [],
   "source": [
    "# a)\n",
    "# DimensionMismatch: matrix A has dimensions (4,4), matrix B has dimensions (2,4)\n",
    "# A*B\n",
    "\n",
    "# b)\n",
    "@show size(B), size(A)\n",
    "display(B*A)\n",
    "\n",
    "# ∘ = circ\n",
    "\n",
    "using LinearAlgebra\n",
    "\n",
    "C_11 = B[1,:] ⋅ A[:,1] \n",
    "C_12 = B[1,:] ⋅ A[:,2] \n",
    "C_13 = B[1,:] ⋅ A[:,3] \n",
    "C_14 = B[1,:] ⋅ A[:,4] \n",
    "\n",
    "C_21 = B[2,:] ⋅ A[:,1] \n",
    "C_22 = B[2,:] ⋅ A[:,2] \n",
    "C_23 = B[2,:] ⋅ A[:,3] \n",
    "C_24 = B[2,:] ⋅ A[:,4] \n",
    "\n",
    "C = [C_11 C_12 C_13 C_14\n",
    "     C_21 C_22 C_23 C_24]"
   ]
  },
  {
   "cell_type": "code",
   "execution_count": null,
   "id": "739d541e",
   "metadata": {},
   "outputs": [],
   "source": [
    "# c)\n",
    "# DimensionMismatch: matrix A has dimensions (2,1), matrix B has dimensions (2,4)\n",
    "# v' * B\n",
    "# For this to work, use v instead.\n",
    "v * B\n"
   ]
  },
  {
   "cell_type": "code",
   "execution_count": null,
   "id": "ba4da180",
   "metadata": {},
   "outputs": [],
   "source": [
    "# d)\n",
    "B * u"
   ]
  },
  {
   "cell_type": "code",
   "execution_count": null,
   "id": "c038e6e8",
   "metadata": {},
   "outputs": [],
   "source": [
    "# e)\n",
    "[u A*u A^2*u A^3*u]"
   ]
  },
  {
   "cell_type": "markdown",
   "id": "cae39518",
   "metadata": {},
   "source": [
    "### Exercise 2.2.3"
   ]
  },
  {
   "cell_type": "code",
   "execution_count": null,
   "id": "f56b2b3b",
   "metadata": {},
   "outputs": [],
   "source": [
    "u = [1, 3, 5, 7, 9, 11];\n",
    "v = [-60, -50, -40, -30, -20, -10];"
   ]
  },
  {
   "cell_type": "code",
   "execution_count": null,
   "id": "e189d604",
   "metadata": {},
   "outputs": [],
   "source": [
    "u' * v"
   ]
  },
  {
   "cell_type": "code",
   "execution_count": null,
   "id": "f788c02d",
   "metadata": {},
   "outputs": [],
   "source": [
    "v' * u"
   ]
  },
  {
   "cell_type": "code",
   "execution_count": null,
   "id": "2becd33b",
   "metadata": {},
   "outputs": [],
   "source": [
    "u * v'"
   ]
  },
  {
   "cell_type": "code",
   "execution_count": null,
   "id": "e158e1e6",
   "metadata": {},
   "outputs": [],
   "source": [
    "v * u'"
   ]
  },
  {
   "cell_type": "markdown",
   "id": "7840660c",
   "metadata": {},
   "source": [
    "### Exercise 2.2.4"
   ]
  },
  {
   "cell_type": "code",
   "execution_count": null,
   "id": "69953f79",
   "metadata": {},
   "outputs": [],
   "source": [
    "A = rand(3,4)\n",
    "B = rand(4,2)\n",
    "\n",
    "display((A*B)')\n",
    "\n",
    "display((B' * A'))\n",
    "\n",
    "display(norm((A*B)' - (B' * A')))"
   ]
  },
  {
   "cell_type": "markdown",
   "id": "1102df2c",
   "metadata": {},
   "source": [
    "## 2.3 Linear systems"
   ]
  },
  {
   "cell_type": "markdown",
   "id": "3fe79043",
   "metadata": {},
   "source": [
    "Back substitution algorithm for solver upper diagonal systems.\n"
   ]
  },
  {
   "cell_type": "code",
   "execution_count": null,
   "id": "3c74842c",
   "metadata": {},
   "outputs": [],
   "source": [
    "\"\"\"\n",
    "    backsub(U,b)\n",
    "\n",
    "Solve the upper triangular linear system with matrix `U` and\n",
    "right-hand side vector `b`. Ux=b\n",
    "\"\"\"\n",
    "function backsub(U,b)\n",
    "    n = length(b)\n",
    "    x = zeros(Float64, n)\n",
    "    x[n] = b[n]/U[n,n]\n",
    "    for i = n-1:-1:1\n",
    "        s = sum(U[i,i+1:n] .* x[i+1:n])\n",
    "        x[i] = (b[i] - s)/U[i,i]\n",
    "    end\n",
    "    return x\n",
    "end\n",
    "\n",
    "A = [1 2 3; 0 4 5; 0 0 6]\n",
    "b = [1, 2, 3]\n",
    "@show A \\ b;\n",
    "@show backsub(A, b);"
   ]
  },
  {
   "cell_type": "code",
   "execution_count": null,
   "id": "e64a1e92",
   "metadata": {},
   "outputs": [],
   "source": []
  },
  {
   "cell_type": "code",
   "execution_count": null,
   "id": "aa2f6785",
   "metadata": {},
   "outputs": [],
   "source": [
    "# making a random matrix\n",
    "A = rand(1:9, 5,5)\n",
    "\n",
    "# taking the upper triangular part\n",
    "U = triu(A)\n",
    "\n",
    "# taking the lower triangular part\n",
    "L = tril(A)"
   ]
  },
  {
   "cell_type": "code",
   "execution_count": null,
   "id": "9772daca",
   "metadata": {},
   "outputs": [],
   "source": [
    "α = 0.3;\n",
    "β = 1e12;\n",
    "U = diagm(0=>ones(5), 1=>[-1,-1,-1,-1])\n",
    "display(U)\n",
    "U[1,4] = α-β\n",
    "U[1,5] = β\n",
    "b = [α, 0, 0, 0, 1]\n",
    "\n",
    "x_exact = ones(5)\n",
    "@show cond(U)\n",
    "x = backsub(U,b)\n",
    "@show x - x_exact\n",
    "@show U\\b-x_exact\n"
   ]
  },
  {
   "cell_type": "markdown",
   "id": "407a148f",
   "metadata": {},
   "source": [
    "### Exercise 2.3.1"
   ]
  },
  {
   "cell_type": "code",
   "execution_count": null,
   "id": "ff588c90",
   "metadata": {},
   "outputs": [],
   "source": [
    "# Not solveable, has infinite solutions\n",
    "# A = [0 1; 0 0]\n",
    "# b = [1, 1]\n",
    "# A \\ b\n"
   ]
  },
  {
   "cell_type": "markdown",
   "id": "b9137400",
   "metadata": {},
   "source": [
    "### Exercise 2.3.2\n",
    "Solve the triangular systems by hand."
   ]
  },
  {
   "cell_type": "markdown",
   "id": "2c827a18",
   "metadata": {},
   "source": [
    "### Exercise 2.3.3"
   ]
  },
  {
   "cell_type": "code",
   "execution_count": null,
   "id": "12e4c152",
   "metadata": {},
   "outputs": [],
   "source": [
    "using MyFNC\n",
    "\n",
    "# (a) Part 1\n",
    "L = [-2 0 0; 1 -1 0; 3 2 1]\n",
    "b = [-4, 2, 1]\n",
    "@show x = MyFNC.forwardsub(L, b)\n",
    "\n",
    "# Should be equal\n",
    "@test x == FNC.forwardsub(L, b)\n",
    "# Should be zero\n",
    "@test L*x - b ≈ zeros(3)"
   ]
  },
  {
   "cell_type": "code",
   "execution_count": null,
   "id": "bf9284ea",
   "metadata": {},
   "outputs": [],
   "source": [
    "\n",
    "# (a)\n",
    "L = [-2 0 0; 1 -1 0; 3 2 1]\n",
    "b = [-4, 2, 1]\n",
    "@show x = MyFNC.forwardsub(L, b)\n",
    "@test x == FNC.forwardsub(L, b)\n",
    "@test L*x - b ≈ zeros(3)\n",
    "\n",
    "# (b)\n",
    "L = [4 0 0 0; 1 -2 0 0; -1 4 4 0; 2 -5 5 1]\n",
    "b = [-4, 1, -3, 5]\n",
    "@show x = MyFNC.forwardsub(L, b)\n",
    "@test x == FNC.forwardsub(L, b)\n",
    "@test L*x - b ≈ zeros(4)\n",
    "\n",
    "# (c)\n",
    "U = [3 2 1; 0 1 -1; 0 0 2]\n",
    "b = [1, 2, -4]\n",
    "@show x = MyFNC.backsub(U, b)\n",
    "@test x == FNC.backsub(U, b)\n",
    "@test U*x - b ≈ zeros(3)"
   ]
  },
  {
   "cell_type": "markdown",
   "id": "321c8799",
   "metadata": {},
   "source": [
    "### Exercise 2.3.4"
   ]
  },
  {
   "cell_type": "code",
   "execution_count": null,
   "id": "74b400b1",
   "metadata": {},
   "outputs": [],
   "source": [
    "# (a)\n",
    "U = [3 1 0; 0 -1 -2; 0 0 3]\n",
    "b = [1, 1, 6]\n",
    "@show x = MyFNC.backsub(U, b)\n",
    "@test U*x - b ≈ zeros(3)\n",
    "\n",
    "# (b)\n",
    "U = [3 1 0 6; 0 -1 -2 7; 0 0 3 4; 0 0 0 5]\n",
    "b = [4, 1, 1, 5]\n",
    "@show x = MyFNC.backsub(U, b)\n",
    "@test U*x - b ≈ zeros(4)"
   ]
  },
  {
   "cell_type": "markdown",
   "id": "3d97e64a",
   "metadata": {},
   "source": [
    "### Exercise 2.3.5"
   ]
  },
  {
   "cell_type": "code",
   "execution_count": null,
   "id": "73f97773",
   "metadata": {},
   "outputs": [],
   "source": [
    "function solve235b(n)\n",
    "    τ = 10 # N\n",
    "    g = -9.81 # m/s²\n",
    "    m = ones(n-1) / (10n)\n",
    "    A = diagm(0=>-2*ones(n-1), 1=>ones(n-2), -1=>ones(n-2))\n",
    "    f = -g/(τ*n) *  m\n",
    "    q = A\\f\n",
    "    return [0; q; 0]\n",
    "end\n",
    "\n",
    "p = plot(range(0, 1, 40+1), solve235b(40), label=\"n=40\")\n",
    "p = plot!(range(0, 1, 8+1), solve235b(8), label=\"n=8\")\n",
    "title!(L\"m_k = 1/(10n)\")\n",
    "display(p)\n",
    "\n",
    "function solve235c(n)\n",
    "    τ = 10 # N\n",
    "    g = -9.81 # m/s²\n",
    "    m = (1:n-1) / (5n^2)\n",
    "    A = diagm(0=>-2*ones(n-1), 1=>ones(n-2), -1=>ones(n-2))\n",
    "    f = -g/(τ*n) *  m\n",
    "    q = A\\f\n",
    "    return [0; q; 0]\n",
    "end\n",
    "\n",
    "p = plot(range(0, 1, 40+1), solve235c(40), label=\"n=40\")\n",
    "p = plot!(range(0, 1, 8+1), solve235c(8), label=\"n=8\")\n",
    "title!(L\"m_k = k/(5n^2)\")\n",
    "display(p)\n",
    "\n"
   ]
  },
  {
   "cell_type": "markdown",
   "id": "b89de857",
   "metadata": {},
   "source": [
    "## 2.5 Efficiency of matrix computations"
   ]
  },
  {
   "cell_type": "code",
   "execution_count": null,
   "id": "42844f06",
   "metadata": {},
   "outputs": [],
   "source": [
    "# Multiplication\n",
    "A = rand(1000,1000)\n",
    "B = tril(A)\n",
    "C = LowerTriangular(B)\n",
    "\n",
    "A*A;\n",
    "tA = @elapsed for i in 1:100; A*A; end\n",
    "@show tA\n",
    "\n",
    "B*B;\n",
    "tB = @elapsed for i in 1:100; B*B; end\n",
    "@show tB\n",
    "\n",
    "C*C;\n",
    "tC = @elapsed for i in 1:100; C*C; end\n",
    "@show tC"
   ]
  },
  {
   "cell_type": "code",
   "execution_count": null,
   "id": "4b43237f",
   "metadata": {},
   "outputs": [],
   "source": [
    "# Solving\n",
    "b = rand(1000)\n",
    "A = rand(1000,1000)\n",
    "B = tril(A)\n",
    "C = LowerTriangular(B)\n",
    "\n",
    "# Quite slow\n",
    "A\\b;\n",
    "tA = @elapsed for i in 1:100; A\\b; end\n",
    "@show tA\n",
    "\n",
    "\n",
    "# Quite fast\n",
    "B\\b;\n",
    "tB = @elapsed for i in 1:100; B\\b; end\n",
    "@show tB\n",
    "\n",
    "# Triangular systems are drastically faster to solve\n",
    "C\\b;\n",
    "tC = @elapsed for i in 1:100; C\\b; end\n",
    "@show tC"
   ]
  },
  {
   "cell_type": "markdown",
   "id": "886105ef",
   "metadata": {},
   "source": [
    "## 2.6 Row pivoting"
   ]
  },
  {
   "cell_type": "code",
   "execution_count": null,
   "id": "d7545d0f",
   "metadata": {},
   "outputs": [],
   "source": [
    "A₁ = [2 0 4 3 ; -4 5 -7 -10 ; 1 15 2 -4.5 ; -2 0 2 -13];\n",
    "@show cond(A₁)\n",
    "\n",
    "L,U=factorize(A₁)\n",
    "display(L)\n",
    "display(U)\n",
    "\n",
    "L,U = lu(A₁)\n",
    "@show cond(A₁)\n",
    "@show cond(L*U)\n",
    "@show A₁-L*U"
   ]
  },
  {
   "cell_type": "markdown",
   "id": "93f21393",
   "metadata": {},
   "source": []
  },
  {
   "cell_type": "code",
   "execution_count": null,
   "id": "c53efb2b",
   "metadata": {},
   "outputs": [],
   "source": []
  },
  {
   "cell_type": "code",
   "execution_count": null,
   "id": "224ebc26",
   "metadata": {},
   "outputs": [],
   "source": [
    "A₁ = [2 0 4 3 ; -4 5 -7 -10 ; 1 15 2 -4.5 ; -2 0 2 -13];\n",
    "A₁[[2,4],:] = A₁[[4,2],:]\n",
    "@show cond(A₁)\n",
    "\n",
    "@show L,U=factorize(A₁)\n",
    "display(L)\n",
    "display(U)\n",
    "\n",
    "L,U = lu(A₁)\n",
    "@show cond(A₁)\n",
    "@show cond(L*U)\n",
    "@show A₁-L*U"
   ]
  },
  {
   "cell_type": "markdown",
   "id": "f4511576",
   "metadata": {},
   "source": [
    "### QR factorization is smart"
   ]
  },
  {
   "cell_type": "code",
   "execution_count": null,
   "id": "0c6d0929",
   "metadata": {},
   "outputs": [],
   "source": [
    "# Make a random symmetric positive definite matrix\n",
    "A = rand(10,8)\n",
    "N = A' * A + 10*I\n",
    "\n",
    "qr(N)"
   ]
  },
  {
   "cell_type": "code",
   "execution_count": null,
   "id": "7f0c709e",
   "metadata": {},
   "outputs": [],
   "source": []
  }
 ],
 "metadata": {
  "kernelspec": {
   "display_name": "Julia 1.9.3",
   "language": "julia",
   "name": "julia-1.9"
  },
  "language_info": {
   "file_extension": ".jl",
   "mimetype": "application/julia",
   "name": "julia",
   "version": "1.9.3"
  }
 },
 "nbformat": 4,
 "nbformat_minor": 5
}
