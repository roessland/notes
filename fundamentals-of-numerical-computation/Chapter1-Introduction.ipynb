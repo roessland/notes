{
 "cells": [
  {
   "cell_type": "markdown",
   "id": "6fef8312-eb17-4c3e-b85f-71381af98ff7",
   "metadata": {},
   "source": [
    "# Chapter 1: Introduction\n",
    "\n",
    "https://tobydriscoll.net/fnc-julia/intro/overview.html"
   ]
  },
  {
   "cell_type": "code",
   "execution_count": null,
   "id": "91a804f5-f9b8-4320-9891-5651167c8f02",
   "metadata": {},
   "outputs": [],
   "source": [
    "using Plots;"
   ]
  },
  {
   "cell_type": "markdown",
   "id": "36962f54-76b5-4c22-87d1-6bf4fd5cd8a6",
   "metadata": {},
   "source": [
    "## 1.1\n",
    "https://tobydriscoll.net/fnc-julia/intro/floating-point.html"
   ]
  },
  {
   "cell_type": "markdown",
   "id": "2a73cc82-3248-400f-9da6-ab5a3d7e575f",
   "metadata": {},
   "source": [
    "Floats are not associative under addition."
   ]
  },
  {
   "cell_type": "code",
   "execution_count": null,
   "id": "e577be29-ab09-433b-9290-4416e2140e2d",
   "metadata": {},
   "outputs": [],
   "source": [
    "e = eps()/2\n",
    "(1.0 + e) - 1.0"
   ]
  },
  {
   "cell_type": "code",
   "execution_count": null,
   "id": "ac580ccf-04b3-483e-908c-21259c70b5d4",
   "metadata": {},
   "outputs": [],
   "source": [
    "1.0 + (e - 1.0)"
   ]
  },
  {
   "cell_type": "markdown",
   "id": "14d50d54-9581-4e8e-a938-de5605672459",
   "metadata": {},
   "source": [
    "### Exercise 1.1.1\n",
    "Green notebook, page 44."
   ]
  },
  {
   "cell_type": "code",
   "execution_count": null,
   "id": "faa34f37-8748-4d49-9f4d-d899082a5acf",
   "metadata": {},
   "outputs": [],
   "source": [
    "d=4\n",
    "f=collect(0:15)/2^d\n",
    "display((2^-2, (1+15/16) * 2^-2))\n",
    "display((2^-1, (1+15/16) * 2^-1))\n",
    "display((2^0, (1+15/16) * 2^0))\n",
    "display((2^1, (1+15/16) * 2^1))\n",
    "display((2^2, (1+15/16) * 2^2))"
   ]
  },
  {
   "cell_type": "markdown",
   "id": "ea45b08e-e9e3-4eb9-b46d-3c3468a01f04",
   "metadata": {},
   "source": [
    "Each range is inclusive, and has 16 numbers in it."
   ]
  },
  {
   "cell_type": "code",
   "execution_count": null,
   "id": "b980a8d4-5bd2-4192-8267-dac43ef42195",
   "metadata": {},
   "outputs": [],
   "source": [
    "d=4\n",
    "f=collect(0:15)/2^d\n",
    "F = [0.0]\n",
    "F = vcat(F, (f .+ 1) .* 2^-2)\n",
    "F = vcat(F, (f .+ 1) .* 2^-1)\n",
    "F = vcat(F, (f .+ 1) .* 2^0)\n",
    "F = vcat(F, (f .+ 1) .* 2^1)\n",
    "F = vcat(F, (f .+ 1) .* 2^2)\n",
    "F\n",
    "\n",
    "scatter(F, linestyle=:dashdot)"
   ]
  },
  {
   "cell_type": "markdown",
   "id": "9b0c604b-2020-428a-9398-70acdec4ec8e",
   "metadata": {},
   "source": [
    "There are infinitely many floats between 0 and $\\epsilon$, given that the exponent is allowed to be infinitely small. In practice the exponent only has a certain number of bits."
   ]
  },
  {
   "cell_type": "markdown",
   "id": "4561043c-f3fb-457f-baa7-ec5e4a7e98ba",
   "metadata": {},
   "source": [
    "*(a)* \n",
    "\n",
    "There are 16 numbers in the range [1, 2), 16 numbers in [2, 4), and 16 numbers in [1/2, 1). There are 16 numbers in [4, 8).\n",
    "\n",
    "So in the real interval $[1/2, 4]$ there are 16 + 16 + 16 + 1=49 unique numbers.\n",
    "\n",
    "We can verify this with code:"
   ]
  },
  {
   "cell_type": "code",
   "execution_count": null,
   "id": "ea2b4672-7aba-4e90-9ebf-571e8f2a3b28",
   "metadata": {},
   "outputs": [],
   "source": [
    "# Generate all floats in [1/8, 15).\n",
    "d=BigInt(4)\n",
    "f=map(i -> BigInt(i)//2^d, 0:15)\n",
    "F=collect(Iterators.flatten(\n",
    "    map(n -> (f .+ 1) .*(2//1)^n, -4:4)\n",
    "))\n",
    "\n",
    "# Count those in [1/4, 4].\n",
    "length(filter(fl -> fl >= 1//2 && fl <= 4, F))"
   ]
  },
  {
   "cell_type": "code",
   "execution_count": null,
   "id": "e2fca7fa-192f-4bb0-8270-51dd96bae8bd",
   "metadata": {},
   "outputs": [],
   "source": []
  }
 ],
 "metadata": {
  "kernelspec": {
   "display_name": "Julia 1.9.3",
   "language": "julia",
   "name": "julia-1.9"
  },
  "language_info": {
   "file_extension": ".jl",
   "mimetype": "application/julia",
   "name": "julia",
   "version": "1.9.3"
  }
 },
 "nbformat": 4,
 "nbformat_minor": 5
}
